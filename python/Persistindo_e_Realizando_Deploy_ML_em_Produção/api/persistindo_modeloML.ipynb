{
  "nbformat": 4,
  "nbformat_minor": 0,
  "metadata": {
    "colab": {
      "name": "Persistindo-modeloML.ipynb",
      "provenance": [],
      "collapsed_sections": []
    },
    "kernelspec": {
      "name": "python3",
      "display_name": "Python 3"
    },
    "language_info": {
      "name": "python"
    }
  },
  "cells": [
    {
      "cell_type": "code",
      "metadata": {
        "id": "WXEHJh9Vc3FK"
      },
      "source": [
        "from sklearn.model_selection import train_test_split # importa método train_test_split. Existem outros como: K-Folds cross-validator\n",
        "from sklearn.tree import DecisionTreeClassifier\n",
        "from sklearn.metrics import accuracy_score\n",
        "import numpy as np\n",
        "import pandas as pd"
      ],
      "execution_count": 1,
      "outputs": []
    },
    {
      "cell_type": "code",
      "metadata": {
        "id": "A1kiJdsrdBOv"
      },
      "source": [
        "!wget https://raw.githubusercontent.com/susanli2016/Machine-Learning-with-Python/master/diabetes.csv\n",
        "\n",
        "dados = pd.read_csv(\"diabetes.csv\")"
      ],
      "execution_count": null,
      "outputs": []
    },
    {
      "cell_type": "markdown",
      "metadata": {
        "id": "TButSWCHwsoM"
      },
      "source": [
        "# Análise exploratória dos dados\n",
        "\n",
        "https://minerandodados.com.br/analise-exploratoria-de-dados-passo-a-passo-com-python/\n",
        "\n",
        "<br>Analisar/Selecionar Features/Campos, colunas, atributos - \n",
        "<br>como selecionar - https://minerandodados.com.br/aprenda-como-selecionar-features-para-seu-modelo-de-machine-learning/\n",
        "<br> Algumas Features (Features não informativas) pode adicionar ruído ao modelo"
      ]
    },
    {
      "cell_type": "code",
      "metadata": {
        "id": "xmfQnCcwdBwm",
        "colab": {
          "base_uri": "https://localhost:8080/",
          "height": 200
        },
        "outputId": "2418a35b-bb56-4f85-e6c1-708aab71308d"
      },
      "source": [
        "dados.head()"
      ],
      "execution_count": 3,
      "outputs": [
        {
          "output_type": "execute_result",
          "data": {
            "text/html": [
              "<div>\n",
              "<style scoped>\n",
              "    .dataframe tbody tr th:only-of-type {\n",
              "        vertical-align: middle;\n",
              "    }\n",
              "\n",
              "    .dataframe tbody tr th {\n",
              "        vertical-align: top;\n",
              "    }\n",
              "\n",
              "    .dataframe thead th {\n",
              "        text-align: right;\n",
              "    }\n",
              "</style>\n",
              "<table border=\"1\" class=\"dataframe\">\n",
              "  <thead>\n",
              "    <tr style=\"text-align: right;\">\n",
              "      <th></th>\n",
              "      <th>Pregnancies</th>\n",
              "      <th>Glucose</th>\n",
              "      <th>BloodPressure</th>\n",
              "      <th>SkinThickness</th>\n",
              "      <th>Insulin</th>\n",
              "      <th>BMI</th>\n",
              "      <th>DiabetesPedigreeFunction</th>\n",
              "      <th>Age</th>\n",
              "      <th>Outcome</th>\n",
              "    </tr>\n",
              "  </thead>\n",
              "  <tbody>\n",
              "    <tr>\n",
              "      <th>0</th>\n",
              "      <td>6</td>\n",
              "      <td>148</td>\n",
              "      <td>72</td>\n",
              "      <td>35</td>\n",
              "      <td>0</td>\n",
              "      <td>33.6</td>\n",
              "      <td>0.627</td>\n",
              "      <td>50</td>\n",
              "      <td>1</td>\n",
              "    </tr>\n",
              "    <tr>\n",
              "      <th>1</th>\n",
              "      <td>1</td>\n",
              "      <td>85</td>\n",
              "      <td>66</td>\n",
              "      <td>29</td>\n",
              "      <td>0</td>\n",
              "      <td>26.6</td>\n",
              "      <td>0.351</td>\n",
              "      <td>31</td>\n",
              "      <td>0</td>\n",
              "    </tr>\n",
              "    <tr>\n",
              "      <th>2</th>\n",
              "      <td>8</td>\n",
              "      <td>183</td>\n",
              "      <td>64</td>\n",
              "      <td>0</td>\n",
              "      <td>0</td>\n",
              "      <td>23.3</td>\n",
              "      <td>0.672</td>\n",
              "      <td>32</td>\n",
              "      <td>1</td>\n",
              "    </tr>\n",
              "    <tr>\n",
              "      <th>3</th>\n",
              "      <td>1</td>\n",
              "      <td>89</td>\n",
              "      <td>66</td>\n",
              "      <td>23</td>\n",
              "      <td>94</td>\n",
              "      <td>28.1</td>\n",
              "      <td>0.167</td>\n",
              "      <td>21</td>\n",
              "      <td>0</td>\n",
              "    </tr>\n",
              "    <tr>\n",
              "      <th>4</th>\n",
              "      <td>0</td>\n",
              "      <td>137</td>\n",
              "      <td>40</td>\n",
              "      <td>35</td>\n",
              "      <td>168</td>\n",
              "      <td>43.1</td>\n",
              "      <td>2.288</td>\n",
              "      <td>33</td>\n",
              "      <td>1</td>\n",
              "    </tr>\n",
              "  </tbody>\n",
              "</table>\n",
              "</div>"
            ],
            "text/plain": [
              "   Pregnancies  Glucose  BloodPressure  ...  DiabetesPedigreeFunction  Age  Outcome\n",
              "0            6      148             72  ...                     0.627   50        1\n",
              "1            1       85             66  ...                     0.351   31        0\n",
              "2            8      183             64  ...                     0.672   32        1\n",
              "3            1       89             66  ...                     0.167   21        0\n",
              "4            0      137             40  ...                     2.288   33        1\n",
              "\n",
              "[5 rows x 9 columns]"
            ]
          },
          "metadata": {
            "tags": []
          },
          "execution_count": 3
        }
      ]
    },
    {
      "cell_type": "code",
      "metadata": {
        "id": "RoJ7g1tqdJT2",
        "colab": {
          "base_uri": "https://localhost:8080/"
        },
        "outputId": "29e1c6e4-8e4a-4746-d08c-fa54f6f9ea7a"
      },
      "source": [
        "dados.shape"
      ],
      "execution_count": 4,
      "outputs": [
        {
          "output_type": "execute_result",
          "data": {
            "text/plain": [
              "(768, 9)"
            ]
          },
          "metadata": {
            "tags": []
          },
          "execution_count": 4
        }
      ]
    },
    {
      "cell_type": "code",
      "metadata": {
        "id": "zHtmryMXdJce"
      },
      "source": [
        "dados[\"Glucose\"]"
      ],
      "execution_count": null,
      "outputs": []
    },
    {
      "cell_type": "code",
      "metadata": {
        "id": "YjQLOixHdBzO"
      },
      "source": [
        "dados.info()"
      ],
      "execution_count": null,
      "outputs": []
    },
    {
      "cell_type": "code",
      "metadata": {
        "id": "-XLuEWMfdQrQ"
      },
      "source": [
        "dados[\"Glucose\"].unique()"
      ],
      "execution_count": null,
      "outputs": []
    },
    {
      "cell_type": "code",
      "metadata": {
        "id": "U2Jy6Nc3jEWO"
      },
      "source": [
        "# https://pandas.pydata.org/docs/reference/api/pandas.DataFrame.value_counts.html\n",
        "# Retorne uma série contendo contagens de linhas exclusivas no DataFrame.\n",
        "dados.Glucose.value_counts()"
      ],
      "execution_count": null,
      "outputs": []
    },
    {
      "cell_type": "code",
      "metadata": {
        "id": "JrhsHWAJjtSf"
      },
      "source": [
        "dados2 = dados[dados.Outcome ==1]  #mostra todos os registros cujo o OutCome seja igual 1\n",
        "#dados2 = dados[dados.Outcome ==1].sample(5)\n",
        "dados2"
      ],
      "execution_count": null,
      "outputs": []
    },
    {
      "cell_type": "code",
      "metadata": {
        "id": "Are8VHYnkVLs"
      },
      "source": [
        "# verifica se existem campos/features/atributos vazios - checando Missing Values\n",
        "dados2.isnull().sum()"
      ],
      "execution_count": null,
      "outputs": []
    },
    {
      "cell_type": "code",
      "metadata": {
        "id": "zCCYZqoxlhNT"
      },
      "source": [
        "#https://datatofish.com/replace-nan-values-with-zeros/\n",
        "# Preencher as colunas NaN - não definida\n",
        "# ou .fill('Yes') ou .fillna(data['colunax'].mean())\n",
        "dados['Outcome'] = dados['Outcome'].fillna('0') "
      ],
      "execution_count": null,
      "outputs": []
    },
    {
      "cell_type": "code",
      "metadata": {
        "id": "0Co9taUtmYT7"
      },
      "source": [
        "# chegar novamente Missing Value\n",
        "dados.isnull().sum()"
      ],
      "execution_count": null,
      "outputs": []
    },
    {
      "cell_type": "markdown",
      "metadata": {
        "id": "MfkiSD9am7-l"
      },
      "source": [
        "#Transformandos dados categóricos"
      ]
    },
    {
      "cell_type": "code",
      "metadata": {
        "id": "GYc_YT3wm5ly"
      },
      "source": [
        "from sklearn.preprocessing import LabelEncoder"
      ],
      "execution_count": null,
      "outputs": []
    },
    {
      "cell_type": "code",
      "metadata": {
        "id": "0nzyx_8InIMv"
      },
      "source": [
        "#colunax_values = {'Female':0,'Male':1}\n",
        "#coluna_casado_values = {'No':0,'Yes':1}\n",
        "# dados.replace({'colunax':colunax_values, 'coluna_casado':coluna_casado_values}, inplace=True)\n",
        "# exemplo\n",
        "## OutCome_values = {'Yes':1,'No':0}\n",
        "## dados2.replace({'OutCome': OutCome_values},inplace=True)"
      ],
      "execution_count": null,
      "outputs": []
    },
    {
      "cell_type": "markdown",
      "metadata": {
        "id": "HQB8yHGq4DOf"
      },
      "source": [
        "# Dividir o conjunto de dados em duas variáveis X e y"
      ]
    },
    {
      "cell_type": "code",
      "metadata": {
        "id": "U6P6XQR8dSOG"
      },
      "source": [
        "\n",
        "# X mantém os dados que a árvore de decisão vai usar para aprender e y são os rótulos.\n",
        "features = dados.drop([\"Outcome\"], axis=1) #Excluir a coluna de resultado\n",
        "X = np.array(features)  # dados\n",
        "y = np.array(dados[\"Outcome\"])  #rótulos"
      ],
      "execution_count": 12,
      "outputs": []
    },
    {
      "cell_type": "code",
      "metadata": {
        "id": "vnndJ5emdWyv",
        "colab": {
          "base_uri": "https://localhost:8080/"
        },
        "outputId": "9352771a-3382-4607-cbf5-854959356a5a"
      },
      "source": [
        "features.columns # verificar que a coluna Outcome foi excluída"
      ],
      "execution_count": 13,
      "outputs": [
        {
          "output_type": "execute_result",
          "data": {
            "text/plain": [
              "Index(['Pregnancies', 'Glucose', 'BloodPressure', 'SkinThickness', 'Insulin',\n",
              "       'BMI', 'DiabetesPedigreeFunction', 'Age'],\n",
              "      dtype='object')"
            ]
          },
          "metadata": {
            "tags": []
          },
          "execution_count": 13
        }
      ]
    },
    {
      "cell_type": "markdown",
      "metadata": {
        "id": "urTW2aWH4Ri6"
      },
      "source": [
        "# Dividir dos dados para Treinamento e Testes/Validação"
      ]
    },
    {
      "cell_type": "code",
      "metadata": {
        "id": "8eMESWzudZt-"
      },
      "source": [
        "# Divide o conjunto de dados com a seguinte função scikit-learn\n",
        "# Usamos 20% (0.20) do conjunto de dados para construir o conjunto de validação.\n",
        "# retorn uma tupla\n",
        "# random_state=0 = Seed\n",
        "X_train, X_val, y_train, y_val = train_test_split(X, y, random_state=0, test_size=0.20)"
      ],
      "execution_count": 14,
      "outputs": []
    },
    {
      "cell_type": "markdown",
      "metadata": {
        "id": "ZKj8KrI_rj3e"
      },
      "source": [
        "#Selecionar o melhor classificado através de Pipeline e GridSearchCV"
      ]
    },
    {
      "cell_type": "code",
      "metadata": {
        "colab": {
          "base_uri": "https://localhost:8080/"
        },
        "id": "fOGnkPYadcqn",
        "outputId": "7221abe1-bae4-4f3c-eeb2-98cd463dc8e9"
      },
      "source": [
        "# Classificador Árvore de decisão\n",
        "arvore = DecisionTreeClassifier(min_samples_leaf=10, max_depth=8, min_samples_split=50)\n",
        "\n",
        "clf = arvore.fit(X_train, y_train) # método fit faz o treinamento do modelo\n",
        "clf"
      ],
      "execution_count": 51,
      "outputs": [
        {
          "output_type": "execute_result",
          "data": {
            "text/plain": [
              "DecisionTreeClassifier(ccp_alpha=0.0, class_weight=None, criterion='gini',\n",
              "                       max_depth=8, max_features=None, max_leaf_nodes=None,\n",
              "                       min_impurity_decrease=0.0, min_impurity_split=None,\n",
              "                       min_samples_leaf=10, min_samples_split=50,\n",
              "                       min_weight_fraction_leaf=0.0, presort='deprecated',\n",
              "                       random_state=None, splitter='best')"
            ]
          },
          "metadata": {
            "tags": []
          },
          "execution_count": 51
        }
      ]
    },
    {
      "cell_type": "code",
      "metadata": {
        "id": "e0rXUjv2du1Z"
      },
      "source": [
        "from sklearn import tree\n",
        "tree.plot_tree(clf)  # Existem outros modelos de apresentação"
      ],
      "execution_count": null,
      "outputs": []
    },
    {
      "cell_type": "code",
      "metadata": {
        "colab": {
          "base_uri": "https://localhost:8080/"
        },
        "id": "tRHtWLd2d-10",
        "outputId": "d9026172-7e52-43e9-a3be-404b4c7c064a"
      },
      "source": [
        "arvore.tree_.max_depth"
      ],
      "execution_count": 53,
      "outputs": [
        {
          "output_type": "execute_result",
          "data": {
            "text/plain": [
              "7"
            ]
          },
          "metadata": {
            "tags": []
          },
          "execution_count": 53
        }
      ]
    },
    {
      "cell_type": "code",
      "metadata": {
        "colab": {
          "base_uri": "https://localhost:8080/"
        },
        "id": "ZdLzzlXAd_cG",
        "outputId": "88262a82-bbd9-4c0c-dc68-f03e98be6ae5"
      },
      "source": [
        "# Usaremos o conjunto de validação para medir o desempenho do modelo\n",
        "validation_prediction = arvore.predict(X_val)\n",
        "training_prediction   = arvore.predict(X_train)\n",
        "\n",
        "# from sklearn.metrics import accuracy_score\n",
        "print('Accuracy training set: ', accuracy_score(y_true=y_train, y_pred=training_prediction))\n",
        "print('Accuracy validation set: ', accuracy_score(y_true=y_val, y_pred=validation_prediction))"
      ],
      "execution_count": 54,
      "outputs": [
        {
          "output_type": "stream",
          "text": [
            "Accuracy training set:  0.8268156424581006\n",
            "Accuracy validation set:  0.7359307359307359\n"
          ],
          "name": "stdout"
        }
      ]
    },
    {
      "cell_type": "code",
      "metadata": {
        "colab": {
          "base_uri": "https://localhost:8080/"
        },
        "id": "4g6t5QQ-Nfz0",
        "outputId": "2ad3ed29-d6b8-4f2b-f639-bc553397e3c5"
      },
      "source": [
        "print(metrics.classification_report(y_val,clf.predict(X_val)))"
      ],
      "execution_count": 55,
      "outputs": [
        {
          "output_type": "stream",
          "text": [
            "              precision    recall  f1-score   support\n",
            "\n",
            "           0       0.79      0.81      0.80       151\n",
            "           1       0.62      0.60      0.61        80\n",
            "\n",
            "    accuracy                           0.74       231\n",
            "   macro avg       0.71      0.70      0.71       231\n",
            "weighted avg       0.73      0.74      0.73       231\n",
            "\n"
          ],
          "name": "stdout"
        }
      ]
    },
    {
      "cell_type": "markdown",
      "metadata": {
        "id": "2j_aGYoI1SXl"
      },
      "source": [
        "# Persistindo o Modelo em disco"
      ]
    },
    {
      "cell_type": "code",
      "metadata": {
        "id": "1TvpJiZa1Q3J"
      },
      "source": [
        "from sklearn.externals import  joblib"
      ],
      "execution_count": null,
      "outputs": []
    },
    {
      "cell_type": "code",
      "metadata": {
        "colab": {
          "base_uri": "https://localhost:8080/"
        },
        "id": "ndmu_jQM1hZB",
        "outputId": "bfba8420-68da-40f6-cf5f-145d9b28216d"
      },
      "source": [
        "joblib.dump( arvore,'modelo.pkl'  )   #tira da Ram e salva no disco- joblib.dump"
      ],
      "execution_count": 21,
      "outputs": [
        {
          "output_type": "execute_result",
          "data": {
            "text/plain": [
              "['modelo.pkl']"
            ]
          },
          "metadata": {
            "tags": []
          },
          "execution_count": 21
        }
      ]
    },
    {
      "cell_type": "code",
      "metadata": {
        "colab": {
          "base_uri": "https://localhost:8080/"
        },
        "id": "98IGpgOK11KG",
        "outputId": "aa4cf6e8-3b0a-4b05-bb47-922c925ab8e8"
      },
      "source": [
        "!ls\n"
      ],
      "execution_count": 22,
      "outputs": [
        {
          "output_type": "stream",
          "text": [
            "diabetes.csv  modelo.pkl  sample_data\n"
          ],
          "name": "stdout"
        }
      ]
    },
    {
      "cell_type": "code",
      "metadata": {
        "id": "4dCPqsq4LteH"
      },
      "source": [
        "import pickle\n",
        "with open('modelo2.pkl', 'wb') as f:\n",
        "    pickle.dump(clf, f)"
      ],
      "execution_count": 23,
      "outputs": []
    },
    {
      "cell_type": "code",
      "metadata": {
        "colab": {
          "base_uri": "https://localhost:8080/"
        },
        "id": "UXkeYHCeAm_w",
        "outputId": "2d181b52-f712-4ad6-d4c1-b0c0890386a0"
      },
      "source": [
        "!ls"
      ],
      "execution_count": 24,
      "outputs": [
        {
          "output_type": "stream",
          "text": [
            "diabetes.csv  modelo2.pkl  modelo.pkl  sample_data\n"
          ],
          "name": "stdout"
        }
      ]
    },
    {
      "cell_type": "code",
      "metadata": {
        "id": "dDfYEZoT1RTj"
      },
      "source": [
        "# carregando o modelo do disco para a memória usando a ferramenta joblib\n",
        "model = joblib.load('modelo.pkl')"
      ],
      "execution_count": 25,
      "outputs": []
    },
    {
      "cell_type": "code",
      "metadata": {
        "id": "KkmYDZcCL6zE"
      },
      "source": [
        "# carregando o modelo do disco para a memória com pickle\n",
        "with open('modelo2.pkl', 'rb') as f:\n",
        "    model2 = pickle.load(f)"
      ],
      "execution_count": 56,
      "outputs": []
    },
    {
      "cell_type": "code",
      "metadata": {
        "colab": {
          "base_uri": "https://localhost:8080/"
        },
        "id": "yIOv9gmX17me",
        "outputId": "f48d1d3f-94e9-41d7-f3ac-b73f55ee36d1"
      },
      "source": [
        "# Verificando os atributos do modelo\n",
        "\n",
        "print(\"Atributos do modelo:\\n\\nClasses:{}\\n\\nParamestros:{}\".format(model.classes_,model.get_params))"
      ],
      "execution_count": 35,
      "outputs": [
        {
          "output_type": "stream",
          "text": [
            "Atributos do modelo:\n",
            "\n",
            "Classes:[0 1]\n",
            "\n",
            "Paramestros:<bound method BaseEstimator.get_params of DecisionTreeClassifier(ccp_alpha=0.0, class_weight=None, criterion='gini',\n",
            "                       max_depth=8, max_features=None, max_leaf_nodes=None,\n",
            "                       min_impurity_decrease=0.0, min_impurity_split=None,\n",
            "                       min_samples_leaf=10, min_samples_split=50,\n",
            "                       min_weight_fraction_leaf=0.0, presort='deprecated',\n",
            "                       random_state=None, splitter='best')>\n"
          ],
          "name": "stdout"
        }
      ]
    },
    {
      "cell_type": "code",
      "metadata": {
        "colab": {
          "base_uri": "https://localhost:8080/"
        },
        "id": "aiyiW6KM7DGy",
        "outputId": "036dfdf3-ed5c-43b7-a3da-493d2d6e0967"
      },
      "source": [
        "# Teste de Classificação - Após treinamento e gerado o modelo\n",
        "\n",
        "meus_dados = np.array([[6,148,72,35,0,33.6,0.627,50]])\n",
        "model.predict(meus_dados)"
      ],
      "execution_count": 57,
      "outputs": [
        {
          "output_type": "execute_result",
          "data": {
            "text/plain": [
              "array([1])"
            ]
          },
          "metadata": {
            "tags": []
          },
          "execution_count": 57
        }
      ]
    },
    {
      "cell_type": "code",
      "metadata": {
        "colab": {
          "base_uri": "https://localhost:8080/"
        },
        "id": "QDclGGhO7oDv",
        "outputId": "7dc7004f-5aa1-477d-b074-bfac3127bfab"
      },
      "source": [
        "#Probabilidade de Classes\n",
        "\n",
        "model.predict_proba(meus_dados)\n",
        "\n",
        "#Obs- mostra a probabilidade de ser 13% para classe 0 e 86% para a classe 1"
      ],
      "execution_count": 45,
      "outputs": [
        {
          "output_type": "execute_result",
          "data": {
            "text/plain": [
              "array([[0.13888889, 0.86111111]])"
            ]
          },
          "metadata": {
            "tags": []
          },
          "execution_count": 45
        }
      ]
    },
    {
      "cell_type": "code",
      "metadata": {
        "colab": {
          "base_uri": "https://localhost:8080/"
        },
        "id": "z6Zeyk0eMMZ7",
        "outputId": "c3aea002-a34a-400d-fbe0-d6164d8a8b1b"
      },
      "source": [
        "model2.predict_proba(meus_dados)"
      ],
      "execution_count": 58,
      "outputs": [
        {
          "output_type": "execute_result",
          "data": {
            "text/plain": [
              "array([[0.13888889, 0.86111111]])"
            ]
          },
          "metadata": {
            "tags": []
          },
          "execution_count": 58
        }
      ]
    },
    {
      "cell_type": "markdown",
      "metadata": {
        "id": "Z1tc8pZdFhSH"
      },
      "source": [
        "# Flask"
      ]
    },
    {
      "cell_type": "code",
      "metadata": {
        "id": "OcJl6icS7iH0"
      },
      "source": [
        "! pip install flask-ngrok"
      ],
      "execution_count": null,
      "outputs": []
    },
    {
      "cell_type": "code",
      "metadata": {
        "id": "8AFVFAAvFgbh"
      },
      "source": [
        "from flask_ngrok import run_with_ngrok \n",
        "from flask import Flask\n",
        "\n",
        "app = Flask(__name__)\n",
        "run_with_ngrok (app) #starts ngrok quando o aplicativo é executado\n",
        "@ app.route (\"/\") \n",
        "def home (): \n",
        "    return \"<h1> Executando Flask no Google Colab! </h1>\" \n",
        "  "
      ],
      "execution_count": 27,
      "outputs": []
    },
    {
      "cell_type": "code",
      "metadata": {
        "id": "NfjSw6ke7DSK"
      },
      "source": [
        "app.run ()"
      ],
      "execution_count": null,
      "outputs": []
    },
    {
      "cell_type": "code",
      "metadata": {
        "id": "bUQACx2fHmnt"
      },
      "source": [
        ""
      ],
      "execution_count": null,
      "outputs": []
    },
    {
      "cell_type": "markdown",
      "metadata": {
        "id": "OXKuE9CJ696T"
      },
      "source": [
        "....\n",
        "\n",
        "\n"
      ]
    },
    {
      "cell_type": "markdown",
      "metadata": {
        "id": "xBVa3gHMr87K"
      },
      "source": [
        "# Outro classificador\n",
        "\n",
        "##Selecionando o classificado RandomForest"
      ]
    },
    {
      "cell_type": "code",
      "metadata": {
        "id": "v6kOgy-gsCGY"
      },
      "source": [
        "from sklearn.ensemble import RandomForestClassifier"
      ],
      "execution_count": 29,
      "outputs": []
    },
    {
      "cell_type": "code",
      "metadata": {
        "id": "qgFz5_nUeDdF"
      },
      "source": [
        "#n_estimator= 100 - gerar 100 árvores\n",
        "clf_rf = RandomForestClassifier(n_estimators=100, min_samples_split=2)"
      ],
      "execution_count": 30,
      "outputs": []
    },
    {
      "cell_type": "code",
      "metadata": {
        "id": "btxJdulbsSbO"
      },
      "source": [
        "# Divide o conjunto de dados com a seguinte função scikit-learn\n",
        "# Usamos 20% (0.20) do conjunto de dados para construir o conjunto de validação.\n",
        "# retorn uma tupla\n",
        "# random_state=0 = Seed\n",
        "X_train, X_val, y_train, y_val = train_test_split(X, y, random_state=42, test_size=0.30)"
      ],
      "execution_count": 31,
      "outputs": []
    },
    {
      "cell_type": "code",
      "metadata": {
        "colab": {
          "base_uri": "https://localhost:8080/"
        },
        "id": "dArIGH9WsuwC",
        "outputId": "e22880d3-1000-4364-ba90-9f814cb92fd1"
      },
      "source": [
        "clf_rf.fit(X_train,y_train)"
      ],
      "execution_count": 32,
      "outputs": [
        {
          "output_type": "execute_result",
          "data": {
            "text/plain": [
              "RandomForestClassifier(bootstrap=True, ccp_alpha=0.0, class_weight=None,\n",
              "                       criterion='gini', max_depth=None, max_features='auto',\n",
              "                       max_leaf_nodes=None, max_samples=None,\n",
              "                       min_impurity_decrease=0.0, min_impurity_split=None,\n",
              "                       min_samples_leaf=1, min_samples_split=2,\n",
              "                       min_weight_fraction_leaf=0.0, n_estimators=100,\n",
              "                       n_jobs=None, oob_score=False, random_state=None,\n",
              "                       verbose=0, warm_start=False)"
            ]
          },
          "metadata": {
            "tags": []
          },
          "execution_count": 32
        }
      ]
    },
    {
      "cell_type": "markdown",
      "metadata": {
        "id": "f2Jo7iaYs-sE"
      },
      "source": [
        "#Métricas de Validação"
      ]
    },
    {
      "cell_type": "code",
      "metadata": {
        "id": "ucanaNHXs7Xz"
      },
      "source": [
        "from sklearn import  metrics\n",
        "from sklearn.model_selection import  train_test_split"
      ],
      "execution_count": 43,
      "outputs": []
    },
    {
      "cell_type": "code",
      "metadata": {
        "id": "eFBlmL2Yu9iE"
      },
      "source": [
        "# Métrica nos dados de Validação\n",
        "# pd.crosstab = tabela cruzada de dois ou mais fatores\n",
        "cross_table = pd.crosstab(y_train, clf_rf.predict(X_train), rownames=['Actual'], colnames=['Predicted'], margins=True)"
      ],
      "execution_count": 34,
      "outputs": []
    },
    {
      "cell_type": "code",
      "metadata": {
        "colab": {
          "base_uri": "https://localhost:8080/",
          "height": 169
        },
        "id": "eYsLKeNbvZeH",
        "outputId": "95fdff5a-69a3-499a-8077-bca742dc97b8"
      },
      "source": [
        "cross_table\n",
        "\n",
        "# Observer que acertou 100% - teve um overfitting - decorou os dados"
      ],
      "execution_count": 35,
      "outputs": [
        {
          "output_type": "execute_result",
          "data": {
            "text/html": [
              "<div>\n",
              "<style scoped>\n",
              "    .dataframe tbody tr th:only-of-type {\n",
              "        vertical-align: middle;\n",
              "    }\n",
              "\n",
              "    .dataframe tbody tr th {\n",
              "        vertical-align: top;\n",
              "    }\n",
              "\n",
              "    .dataframe thead th {\n",
              "        text-align: right;\n",
              "    }\n",
              "</style>\n",
              "<table border=\"1\" class=\"dataframe\">\n",
              "  <thead>\n",
              "    <tr style=\"text-align: right;\">\n",
              "      <th>Predicted</th>\n",
              "      <th>0</th>\n",
              "      <th>1</th>\n",
              "      <th>All</th>\n",
              "    </tr>\n",
              "    <tr>\n",
              "      <th>Actual</th>\n",
              "      <th></th>\n",
              "      <th></th>\n",
              "      <th></th>\n",
              "    </tr>\n",
              "  </thead>\n",
              "  <tbody>\n",
              "    <tr>\n",
              "      <th>0</th>\n",
              "      <td>349</td>\n",
              "      <td>0</td>\n",
              "      <td>349</td>\n",
              "    </tr>\n",
              "    <tr>\n",
              "      <th>1</th>\n",
              "      <td>0</td>\n",
              "      <td>188</td>\n",
              "      <td>188</td>\n",
              "    </tr>\n",
              "    <tr>\n",
              "      <th>All</th>\n",
              "      <td>349</td>\n",
              "      <td>188</td>\n",
              "      <td>537</td>\n",
              "    </tr>\n",
              "  </tbody>\n",
              "</table>\n",
              "</div>"
            ],
            "text/plain": [
              "Predicted    0    1  All\n",
              "Actual                  \n",
              "0          349    0  349\n",
              "1            0  188  188\n",
              "All        349  188  537"
            ]
          },
          "metadata": {
            "tags": []
          },
          "execution_count": 35
        }
      ]
    },
    {
      "cell_type": "code",
      "metadata": {
        "colab": {
          "base_uri": "https://localhost:8080/",
          "height": 169
        },
        "id": "zux49PbovsIm",
        "outputId": "447e193f-2c5a-4cc3-be90-55f323f66d1e"
      },
      "source": [
        "# # Métrica nos dados de testes\n",
        "cross_table = pd.crosstab(y_val, clf_rf.predict(X_val), rownames=['Actual'], colnames=['Predicted'], margins=True)\n",
        "cross_table\n",
        "\n",
        "# Analisando:  de 99 acertou 78 errou 21; de 55 acertou 36 e errou 19"
      ],
      "execution_count": 36,
      "outputs": [
        {
          "output_type": "execute_result",
          "data": {
            "text/html": [
              "<div>\n",
              "<style scoped>\n",
              "    .dataframe tbody tr th:only-of-type {\n",
              "        vertical-align: middle;\n",
              "    }\n",
              "\n",
              "    .dataframe tbody tr th {\n",
              "        vertical-align: top;\n",
              "    }\n",
              "\n",
              "    .dataframe thead th {\n",
              "        text-align: right;\n",
              "    }\n",
              "</style>\n",
              "<table border=\"1\" class=\"dataframe\">\n",
              "  <thead>\n",
              "    <tr style=\"text-align: right;\">\n",
              "      <th>Predicted</th>\n",
              "      <th>0</th>\n",
              "      <th>1</th>\n",
              "      <th>All</th>\n",
              "    </tr>\n",
              "    <tr>\n",
              "      <th>Actual</th>\n",
              "      <th></th>\n",
              "      <th></th>\n",
              "      <th></th>\n",
              "    </tr>\n",
              "  </thead>\n",
              "  <tbody>\n",
              "    <tr>\n",
              "      <th>0</th>\n",
              "      <td>120</td>\n",
              "      <td>31</td>\n",
              "      <td>151</td>\n",
              "    </tr>\n",
              "    <tr>\n",
              "      <th>1</th>\n",
              "      <td>28</td>\n",
              "      <td>52</td>\n",
              "      <td>80</td>\n",
              "    </tr>\n",
              "    <tr>\n",
              "      <th>All</th>\n",
              "      <td>148</td>\n",
              "      <td>83</td>\n",
              "      <td>231</td>\n",
              "    </tr>\n",
              "  </tbody>\n",
              "</table>\n",
              "</div>"
            ],
            "text/plain": [
              "Predicted    0   1  All\n",
              "Actual                 \n",
              "0          120  31  151\n",
              "1           28  52   80\n",
              "All        148  83  231"
            ]
          },
          "metadata": {
            "tags": []
          },
          "execution_count": 36
        }
      ]
    },
    {
      "cell_type": "code",
      "metadata": {
        "colab": {
          "base_uri": "https://localhost:8080/"
        },
        "id": "r6GaiZ5WxP9o",
        "outputId": "480bdf7a-9df8-4b23-a9ea-3039fa4326bd"
      },
      "source": [
        "print(metrics.classification_report(y_val,clf_rf.predict(X_val)))"
      ],
      "execution_count": 37,
      "outputs": [
        {
          "output_type": "stream",
          "text": [
            "              precision    recall  f1-score   support\n",
            "\n",
            "           0       0.81      0.79      0.80       151\n",
            "           1       0.63      0.65      0.64        80\n",
            "\n",
            "    accuracy                           0.74       231\n",
            "   macro avg       0.72      0.72      0.72       231\n",
            "weighted avg       0.75      0.74      0.75       231\n",
            "\n"
          ],
          "name": "stdout"
        }
      ]
    },
    {
      "cell_type": "code",
      "metadata": {
        "colab": {
          "base_uri": "https://localhost:8080/"
        },
        "id": "AnjTl8R3x5bP",
        "outputId": "8b3f1d82-8a00-4bad-f49e-4d55d91c6fbd"
      },
      "source": [
        "# Usaremos o conjunto de validação para medir o desempenho do modelo\n",
        "validation_prediction = clf_rf.predict(X_val)\n",
        "training_prediction   = clf_rf.predict(X_train)\n",
        "\n",
        "# from sklearn.metrics import accuracy_score\n",
        "print('Accuracy training set: ', accuracy_score(y_true=y_train, y_pred=training_prediction))\n",
        "print('Accuracy validation set: ', accuracy_score(y_true=y_val, y_pred=validation_prediction))"
      ],
      "execution_count": 38,
      "outputs": [
        {
          "output_type": "stream",
          "text": [
            "Accuracy training set:  1.0\n",
            "Accuracy validation set:  0.7445887445887446\n"
          ],
          "name": "stdout"
        }
      ]
    }
  ]
}